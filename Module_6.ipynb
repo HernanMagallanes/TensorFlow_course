{
  "nbformat": 4,
  "nbformat_minor": 0,
  "metadata": {
    "colab": {
      "name": "Module_6.ipynb",
      "provenance": [],
      "collapsed_sections": [],
      "authorship_tag": "ABX9TyMA9nh9LnPzne7WUKVykZg/",
      "include_colab_link": true
    },
    "kernelspec": {
      "name": "python3",
      "display_name": "Python 3"
    },
    "language_info": {
      "name": "python"
    },
    "accelerator": "GPU"
  },
  "cells": [
    {
      "cell_type": "markdown",
      "metadata": {
        "id": "view-in-github",
        "colab_type": "text"
      },
      "source": [
        "<a href=\"https://colab.research.google.com/github/HernanMagallanes/TensorFlow_course/blob/main/Module_6.ipynb\" target=\"_parent\"><img src=\"https://colab.research.google.com/assets/colab-badge.svg\" alt=\"Open In Colab\"/></a>"
      ]
    },
    {
      "cell_type": "markdown",
      "source": [
        "# Module 6: Natural Language Processing with RNNs \n",
        "Natural Language Processing (or NLP for short) is a discipline in computing that deals with the communication between natural (human) languages and computer languages. A common example of NLP is something like spellcheck or autocomplete. Essentially NLP is the field that focuses on how computers can understand and/or process natural/human languages. \n",
        "\n",
        "###Recurrent Neural Networks\n",
        "\n",
        "In this tutorial we will introduce a new kind of neural network that is much more capable of processing sequential data such as text or characters called a **recurrent neural network** (RNN for short). \n",
        "\n",
        "We will learn how to use a reccurent neural network to do the following:\n",
        "- Sentiment Analysis\n",
        "- Character Generation \n",
        "\n",
        "RNN's are complex and come in many different forms so in this tutorial we wil focus on how they work and the kind of problems they are best suited for.\n",
        "\n"
      ],
      "metadata": {
        "id": "vOyGHlXtH0JY"
      }
    },
    {
      "cell_type": "markdown",
      "source": [
        "## Sequence Data\n",
        "\n",
        "Since textual data contains many words that follow in a very specific and meaningful order, we need to be able to keep track of each word and when it occurs in the data. Simply encoding say an entire paragraph of text into one data point wouldn't give us a very meaningful picture of the data and would be very difficult to do anything with. This is why we treat text as a sequence and process one word at a time. We will keep track of where each of these words appear and use that information to try to understand the meaning of peices of text.\n"
      ],
      "metadata": {
        "id": "yXmaeTGUH4e_"
      }
    },
    {
      "cell_type": "markdown",
      "source": [
        "##Encoding Text\n",
        "As we know machine learning models and neural networks don't take raw text data as an input. This means we must somehow encode our textual data to numeric values that our models can understand. There are many different ways of doing this and we will look at a few examples below. \n",
        "\n",
        "Before we get into the different encoding/preprocessing methods let's understand the information we can get from textual data by looking at the following two movie reviews.\n",
        "\n",
        "```I thought the movie was going to be bad, but it was actually amazing!```\n",
        "\n",
        "```I thought the movie was going to be amazing, but it was actually bad!```\n",
        "\n",
        "Although these two setences are very similar we know that they have very different meanings. This is because of the **ordering** of words, a very important property of textual data.\n",
        "\n",
        "Now keep that in mind while we consider some different ways of encoding our textual data.\n",
        "\n",
        "###Bag of Words\n",
        "The first and simplest way to encode our data is to use something called **bag of words**. This is a pretty easy technique where each word in a sentence is encoded with an integer and thrown into a collection that does not maintain the order of the words but does keep track of the frequency. Have a look at the python function below that encodes a string of text into bag of words. "
      ],
      "metadata": {
        "id": "3RBRC9uRH4bf"
      }
    },
    {
      "cell_type": "code",
      "source": [
        "# maps word to integer representing it\n",
        "vocab = {}  \n",
        "\n",
        "word_encoding = 1\n",
        "\n",
        "def bag_of_words(text):\n",
        "  global word_encoding\n",
        "\n",
        "  # create a list of all of the words in the text, well assume there is no grammar in our text for this example\n",
        "  words = text.lower().split(\" \")  \n",
        "\n",
        "  # stores all of the encodings and their frequency\n",
        "  bag = {}\n",
        "\n",
        "  for word in words:\n",
        "    if word in vocab:\n",
        "      # get encoding from vocab\n",
        "      encoding = vocab[word]  \n",
        "\n",
        "    else:\n",
        "      vocab[word] = word_encoding\n",
        "      encoding = word_encoding\n",
        "      word_encoding += 1\n",
        "    \n",
        "    if encoding in bag:\n",
        "      bag[encoding] += 1\n",
        "    else:\n",
        "      bag[encoding] = 1\n",
        "  \n",
        "  return bag\n",
        "\n",
        "text = \"this is a test to see if this test will work is is test a a\"\n",
        "bag = bag_of_words(text)\n",
        "\n",
        "print(bag)\n",
        "print(vocab)"
      ],
      "metadata": {
        "id": "_CSE-4PGH4Fd",
        "colab": {
          "base_uri": "https://localhost:8080/"
        },
        "outputId": "a5c850b5-35af-4dcd-ba80-0842fb95c384"
      },
      "execution_count": null,
      "outputs": [
        {
          "output_type": "stream",
          "name": "stdout",
          "text": [
            "{1: 2, 2: 3, 3: 3, 4: 3, 5: 1, 6: 1, 7: 1, 8: 1, 9: 1}\n",
            "{'this': 1, 'is': 2, 'a': 3, 'test': 4, 'to': 5, 'see': 6, 'if': 7, 'will': 8, 'work': 9}\n"
          ]
        }
      ]
    },
    {
      "cell_type": "code",
      "source": [
        "positive_review = \"I thought the movie was going to be bad but it was actually amazing\"\n",
        "negative_review = \"I thought the movie was going to be amazing but it was actually bad\"\n",
        "\n",
        "pos_bag = bag_of_words(positive_review)\n",
        "neg_bag = bag_of_words(negative_review)\n",
        "\n",
        "print(\"Positive:\", pos_bag)\n",
        "print(\"Negative:\", neg_bag)"
      ],
      "metadata": {
        "id": "wmEjIk8MH4CG",
        "colab": {
          "base_uri": "https://localhost:8080/"
        },
        "outputId": "7048cfb7-2afc-45d6-adec-fad5e6a58256"
      },
      "execution_count": null,
      "outputs": [
        {
          "output_type": "stream",
          "name": "stdout",
          "text": [
            "Positive: {10: 1, 11: 1, 12: 1, 13: 1, 14: 2, 15: 1, 5: 1, 16: 1, 17: 1, 18: 1, 19: 1, 20: 1, 21: 1}\n",
            "Negative: {10: 1, 11: 1, 12: 1, 13: 1, 14: 2, 15: 1, 5: 1, 16: 1, 21: 1, 18: 1, 19: 1, 20: 1, 17: 1}\n"
          ]
        }
      ]
    },
    {
      "cell_type": "code",
      "source": [
        "# Integer Encoding\n",
        "\n",
        "vocab = {}  \n",
        "word_encoding = 1\n",
        "\n",
        "def one_hot_encoding(text):\n",
        "  global word_encoding\n",
        "\n",
        "  words = text.lower().split(\" \") \n",
        "  encoding = []  \n",
        "\n",
        "  for word in words:\n",
        "    if word in vocab:\n",
        "      code = vocab[word]  \n",
        "      encoding.append(code) \n",
        "    else:\n",
        "      vocab[word] = word_encoding\n",
        "      encoding.append(word_encoding)\n",
        "      word_encoding += 1\n",
        "  \n",
        "  return encoding\n",
        "\n",
        "text = \"this is a test to see if this test will work is is test a a\"\n",
        "encoding = one_hot_encoding(text)\n",
        "print(encoding)\n",
        "print(vocab)"
      ],
      "metadata": {
        "id": "Y6uRQd7eH4Aj",
        "colab": {
          "base_uri": "https://localhost:8080/"
        },
        "outputId": "c3b7c88a-3598-4807-c469-a39e9d5d7732"
      },
      "execution_count": null,
      "outputs": [
        {
          "output_type": "stream",
          "name": "stdout",
          "text": [
            "[1, 2, 3, 4, 5, 6, 7, 1, 4, 8, 9, 2, 2, 4, 3, 3]\n",
            "{'this': 1, 'is': 2, 'a': 3, 'test': 4, 'to': 5, 'see': 6, 'if': 7, 'will': 8, 'work': 9}\n"
          ]
        }
      ]
    },
    {
      "cell_type": "code",
      "source": [
        "positive_review = \"I thought the movie was going to be bad but it was actually amazing\"\n",
        "negative_review = \"I thought the movie was going to be amazing but it was actually bad\"\n",
        "\n",
        "pos_encode = one_hot_encoding(positive_review)\n",
        "neg_encode = one_hot_encoding(negative_review)\n",
        "\n",
        "print(\"Positive:\", pos_encode)\n",
        "print(\"Negative:\", neg_encode)"
      ],
      "metadata": {
        "id": "k8KRv9mjH34a",
        "colab": {
          "base_uri": "https://localhost:8080/"
        },
        "outputId": "3fe91b54-2c56-42bb-cba7-445d2da84a4b"
      },
      "execution_count": null,
      "outputs": [
        {
          "output_type": "stream",
          "name": "stdout",
          "text": [
            "Positive: [10, 11, 12, 13, 14, 15, 5, 16, 17, 18, 19, 14, 20, 21]\n",
            "Negative: [10, 11, 12, 13, 14, 15, 5, 16, 21, 18, 19, 14, 20, 17]\n"
          ]
        }
      ]
    },
    {
      "cell_type": "markdown",
      "source": [
        "Much better, now we are keeping track of the order of words and we can tell where each occurs. But this still has a few issues with it. Ideally when we encode words, we would like similar words to have similar labels and different words to have very different labels. For example, the words happy and joyful should probably have very similar labels so we can determine that they are similar. While words like horrible and amazing should probably have very different labels. The method we looked at above won't be able to do something like this for us. This could mean that the model will have a very difficult time determing if two words are similar or not which could result in some pretty drastic performace impacts.\n"
      ],
      "metadata": {
        "id": "nDVrpUtjAqj9"
      }
    },
    {
      "cell_type": "markdown",
      "source": [
        "###Word Embeddings\n",
        "Luckily there is a third method that is far superior, **word embeddings**. This method keeps the order of words intact as well as encodes similar words with very similar labels. It attempts to not only encode the frequency and order of words but the meaning of those words in the sentence. It encodes each word as a dense vector that represents its context in the sentence.\n",
        "\n",
        "Unlike the previous techniques word embeddings are learned by looking at many different training examples. You can add what's called an *embedding layer* to the beggining of your model and while your model trains your embedding layer will learn the correct embeddings for words. You can also use pretrained embedding layers.\n",
        "\n",
        "Classify or translate every single one of our words into a vector (n dims)\n",
        "every single component of that vector will kind of tell us what group it belongs to, or how similar it is to other word.\n",
        "\n",
        "\n",
        "This is the technique we will use for our examples and its implementation will be showed later on.\n",
        "\n"
      ],
      "metadata": {
        "id": "300zZ8uIAqfA"
      }
    },
    {
      "cell_type": "markdown",
      "source": [
        "##Recurrent Neural Networks (RNN's)\n",
        "Now that we've learned a little bit about how we can encode text it's time to dive into recurrent neural networks. Up until this point we have been using something called **feed-forward** neural networks. This simply means that all our data is fed forwards (all at once) from left to right through the network. This was fine for the problems we considered before but won't work very well for processing text. After all, even we (humans) don't process text all at once. We read word by word from left to right and keep track of the current meaning of the sentence so we can understand the meaning of the next word. Well this is exaclty what a recurrent neural network is designed to do. When we say recurrent neural network all we really mean is a network that contains a loop. \n",
        "\n",
        "A RNN will process one word at a time while maintaining an internal memory of what it's already seen. This will allow it to treat words differently based on their order in a sentence and to slowly build an understanding of the entire input, one word at a time.\n",
        "\n",
        "This is why we are treating our text data as a sequence! So that we can pass one word at a time to the RNN."
      ],
      "metadata": {
        "id": "kRuG5dTVAu4_"
      }
    },
    {
      "cell_type": "markdown",
      "source": [
        "##LSTM\n",
        "The layer we dicussed in depth above was called a *simpleRNN*. However, there does exist some other recurrent layers (layers that contain a loop) that work much better than a simple RNN layer. The one we will talk about here is called LSTM (Long Short-Term Memory). This layer works very similarily to the simpleRNN layer but adds a way to access inputs from any timestep in the past. Whereas in our simple RNN layer input from previous timestamps gradually disappeared as we got further through the input. \n",
        "\n",
        "With a LSTM we have a long-term memory data structure storing all the previously seen inputs as well as when we saw them. This allows for us to access any previous value we want at any point in time. This adds to the complexity of our network and allows it to discover more useful relationships between inputs and when they appear. \n",
        "\n"
      ],
      "metadata": {
        "id": "qjNh-J8cAuwA"
      }
    },
    {
      "cell_type": "markdown",
      "source": [
        "##Sentiment Analysis\n",
        "And now time to see a recurrent neural network in action. For this example, we are going to do something called sentiment analysis.\n",
        "\n",
        "The formal definition of this term from Wikipedia is as follows:\n",
        "\n",
        "*the process of computationally identifying and categorizing opinions expressed in a piece of text, especially in order to determine whether the writer's attitude towards a particular topic, product, etc. is positive, negative, or neutral.*\n",
        "\n",
        "The example we’ll use here is classifying movie reviews as either postive, negative or neutral.\n"
      ],
      "metadata": {
        "id": "EvoN_IJEA41A"
      }
    },
    {
      "cell_type": "markdown",
      "source": [
        "###Movie Review Dataset\n",
        "Well start by loading in the IMDB movie review dataset from keras. This dataset contains 25,000 reviews from IMDB where each one is already preprocessed and has a label as either positive or negative. Each review is encoded by integers that represents how common a word is in the entire dataset. For example, a word encoded by the integer 3 means that it is the 3rd most common word in the dataset.\n",
        " \n"
      ],
      "metadata": {
        "id": "0bjOSVudBBHc"
      }
    },
    {
      "cell_type": "code",
      "source": [
        "%tensorflow_version 2.x  # this line is not required unless you are in a notebook\n",
        "from keras.datasets import imdb\n",
        "from keras.preprocessing import sequence\n",
        "import keras\n",
        "import tensorflow as tf\n",
        "import os\n",
        "import numpy as np\n",
        "\n",
        "VOCAB_SIZE = 88584\n",
        "\n",
        "MAXLEN = 250\n",
        "BATCH_SIZE = 64\n",
        "\n",
        "(train_data, train_labels), (test_data, test_labels) = imdb.load_data(num_words = VOCAB_SIZE)"
      ],
      "metadata": {
        "id": "zc7z4nHSH33V",
        "colab": {
          "base_uri": "https://localhost:8080/"
        },
        "outputId": "24af6e4e-2c38-4003-f26e-80f00044fef8"
      },
      "execution_count": null,
      "outputs": [
        {
          "output_type": "stream",
          "name": "stdout",
          "text": [
            "`%tensorflow_version` only switches the major version: 1.x or 2.x.\n",
            "You set: `2.x  # this line is not required unless you are in a notebook`. This will be interpreted as: `2.x`.\n",
            "\n",
            "\n",
            "TensorFlow 2.x selected.\n",
            "Downloading data from https://storage.googleapis.com/tensorflow/tf-keras-datasets/imdb.npz\n",
            "17465344/17464789 [==============================] - 1s 0us/step\n",
            "17473536/17464789 [==============================] - 1s 0us/step\n"
          ]
        }
      ]
    },
    {
      "cell_type": "code",
      "source": [
        "# review num 1 \n",
        "len(train_data[1])"
      ],
      "metadata": {
        "id": "gfcYmDizH31W",
        "colab": {
          "base_uri": "https://localhost:8080/"
        },
        "outputId": "02aba703-3899-4e06-f401-c385ec2d445c"
      },
      "execution_count": null,
      "outputs": [
        {
          "output_type": "execute_result",
          "data": {
            "text/plain": [
              "189"
            ]
          },
          "metadata": {},
          "execution_count": 5
        }
      ]
    },
    {
      "cell_type": "code",
      "source": [
        "# Preprocessing\n",
        "\n",
        "# If we have a look at some of our loaded in reviews, we'll notice that they are different lengths. This is an issue.\n",
        "#  We cannot pass different length data into our neural network. Therefore, we must make each review the same length. \n",
        "#  To do this we will follow the procedure below:\n",
        "# - if the review is greater than 250 words then trim off the extra words\n",
        "# - if the review is less than 250 words add the necessary amount of 0's to make it equal to 250.\n",
        "\n",
        "train_data = sequence.pad_sequences(train_data, MAXLEN)\n",
        "test_data = sequence.pad_sequences(test_data, MAXLEN)\n"
      ],
      "metadata": {
        "id": "6DeUSH8qAvdw"
      },
      "execution_count": null,
      "outputs": []
    },
    {
      "cell_type": "markdown",
      "source": [
        "###Creating the Model\n",
        "Now it's time to create the model. We'll use a word embedding layer as the first layer in our model and add a LSTM layer afterwards that feeds into a dense node to get our predicted sentiment. \n",
        "\n",
        "32 stands for the output dimension of the vectors generated by the embedding layer. We can change this value if we'd like!"
      ],
      "metadata": {
        "id": "rqAdJuvSm7Ux"
      }
    },
    {
      "cell_type": "code",
      "source": [
        "# model\n",
        "\n",
        "model = tf.keras.Sequential([\n",
        "    tf.keras.layers.Embedding(VOCAB_SIZE, 32),\n",
        "    tf.keras.layers.LSTM(32),\n",
        "    tf.keras.layers.Dense(1, activation=\"sigmoid\")\n",
        "])"
      ],
      "metadata": {
        "id": "uzV38cyiAwSp"
      },
      "execution_count": null,
      "outputs": []
    },
    {
      "cell_type": "code",
      "source": [
        "model.summary()"
      ],
      "metadata": {
        "id": "6wzfj8MBAwIZ",
        "colab": {
          "base_uri": "https://localhost:8080/"
        },
        "outputId": "b5aba41b-31bf-47b4-ddf6-889cd8175a78"
      },
      "execution_count": null,
      "outputs": [
        {
          "output_type": "stream",
          "name": "stdout",
          "text": [
            "Model: \"sequential\"\n",
            "_________________________________________________________________\n",
            " Layer (type)                Output Shape              Param #   \n",
            "=================================================================\n",
            " embedding (Embedding)       (None, None, 32)          2834688   \n",
            "                                                                 \n",
            " lstm (LSTM)                 (None, 32)                8320      \n",
            "                                                                 \n",
            " dense (Dense)               (None, 1)                 33        \n",
            "                                                                 \n",
            "=================================================================\n",
            "Total params: 2,843,041\n",
            "Trainable params: 2,843,041\n",
            "Non-trainable params: 0\n",
            "_________________________________________________________________\n"
          ]
        }
      ]
    },
    {
      "cell_type": "code",
      "source": [
        "# training\n",
        "#  Runtime > Change Runtime Type > \"GPU\"\n",
        "#  under hardware accelerato\n",
        "\n",
        "model.compile(loss=\"binary_crossentropy\",optimizer=\"rmsprop\",metrics=['acc'])\n",
        "\n",
        "history = model.fit(train_data, train_labels, epochs=10, validation_split=0.2)"
      ],
      "metadata": {
        "id": "Pn8bI92JAv-R",
        "colab": {
          "base_uri": "https://localhost:8080/"
        },
        "outputId": "9d7289da-e3f1-43ca-9eb1-1f473bd0198d"
      },
      "execution_count": null,
      "outputs": [
        {
          "output_type": "stream",
          "name": "stdout",
          "text": [
            "Epoch 1/10\n",
            "625/625 [==============================] - 41s 56ms/step - loss: 0.4250 - acc: 0.8023 - val_loss: 0.4032 - val_acc: 0.8284\n",
            "Epoch 2/10\n",
            "625/625 [==============================] - 35s 55ms/step - loss: 0.2453 - acc: 0.9061 - val_loss: 0.2649 - val_acc: 0.8938\n",
            "Epoch 3/10\n",
            "625/625 [==============================] - 34s 54ms/step - loss: 0.1816 - acc: 0.9336 - val_loss: 0.2723 - val_acc: 0.8912\n",
            "Epoch 4/10\n",
            "625/625 [==============================] - 34s 55ms/step - loss: 0.1535 - acc: 0.9434 - val_loss: 0.2997 - val_acc: 0.8758\n",
            "Epoch 5/10\n",
            "625/625 [==============================] - 34s 55ms/step - loss: 0.1278 - acc: 0.9556 - val_loss: 0.2908 - val_acc: 0.8894\n",
            "Epoch 6/10\n",
            "625/625 [==============================] - 34s 55ms/step - loss: 0.1120 - acc: 0.9616 - val_loss: 0.3520 - val_acc: 0.8768\n",
            "Epoch 7/10\n",
            "625/625 [==============================] - 34s 55ms/step - loss: 0.0959 - acc: 0.9681 - val_loss: 0.3380 - val_acc: 0.8898\n",
            "Epoch 8/10\n",
            "625/625 [==============================] - 34s 54ms/step - loss: 0.0850 - acc: 0.9718 - val_loss: 0.3193 - val_acc: 0.8872\n",
            "Epoch 9/10\n",
            "625/625 [==============================] - 34s 55ms/step - loss: 0.0729 - acc: 0.9758 - val_loss: 0.3918 - val_acc: 0.8832\n",
            "Epoch 10/10\n",
            "625/625 [==============================] - 34s 55ms/step - loss: 0.0650 - acc: 0.9797 - val_loss: 0.3804 - val_acc: 0.8774\n"
          ]
        }
      ]
    },
    {
      "cell_type": "code",
      "source": [
        "# result\n",
        "\n",
        "results = model.evaluate(test_data, test_labels)\n",
        "print(results)"
      ],
      "metadata": {
        "id": "93Ytt7fkBgIp",
        "colab": {
          "base_uri": "https://localhost:8080/"
        },
        "outputId": "f243d2ac-689e-4165-95fb-0dc3306cc777"
      },
      "execution_count": null,
      "outputs": [
        {
          "output_type": "stream",
          "name": "stdout",
          "text": [
            "782/782 [==============================] - 12s 16ms/step - loss: 0.4489 - acc: 0.8562\n",
            "[0.44885489344596863, 0.8561599850654602]\n"
          ]
        }
      ]
    },
    {
      "cell_type": "code",
      "source": [
        "# prediction\n",
        "\n",
        "word_index = imdb.get_word_index()\n",
        "\n",
        "def encode_text(text):\n",
        "  tokens = keras.preprocessing.text.text_to_word_sequence(text)\n",
        "  tokens = [word_index[word] if word in word_index else 0 for word in tokens]\n",
        "  return sequence.pad_sequences([tokens], MAXLEN)[0]\n",
        "\n",
        "text = \"that movie was just amazing, so amazing\"\n",
        "encoded = encode_text(text)\n",
        "print(encoded)"
      ],
      "metadata": {
        "id": "ur9PMekzBg76",
        "colab": {
          "base_uri": "https://localhost:8080/"
        },
        "outputId": "7a79f2b4-e729-40da-fe35-91c7c2568ce3"
      },
      "execution_count": null,
      "outputs": [
        {
          "output_type": "stream",
          "name": "stdout",
          "text": [
            "Downloading data from https://storage.googleapis.com/tensorflow/tf-keras-datasets/imdb_word_index.json\n",
            "1646592/1641221 [==============================] - 0s 0us/step\n",
            "1654784/1641221 [==============================] - 0s 0us/step\n",
            "[  0   0   0   0   0   0   0   0   0   0   0   0   0   0   0   0   0   0\n",
            "   0   0   0   0   0   0   0   0   0   0   0   0   0   0   0   0   0   0\n",
            "   0   0   0   0   0   0   0   0   0   0   0   0   0   0   0   0   0   0\n",
            "   0   0   0   0   0   0   0   0   0   0   0   0   0   0   0   0   0   0\n",
            "   0   0   0   0   0   0   0   0   0   0   0   0   0   0   0   0   0   0\n",
            "   0   0   0   0   0   0   0   0   0   0   0   0   0   0   0   0   0   0\n",
            "   0   0   0   0   0   0   0   0   0   0   0   0   0   0   0   0   0   0\n",
            "   0   0   0   0   0   0   0   0   0   0   0   0   0   0   0   0   0   0\n",
            "   0   0   0   0   0   0   0   0   0   0   0   0   0   0   0   0   0   0\n",
            "   0   0   0   0   0   0   0   0   0   0   0   0   0   0   0   0   0   0\n",
            "   0   0   0   0   0   0   0   0   0   0   0   0   0   0   0   0   0   0\n",
            "   0   0   0   0   0   0   0   0   0   0   0   0   0   0   0   0   0   0\n",
            "   0   0   0   0   0   0   0   0   0   0   0   0   0   0   0   0   0   0\n",
            "   0   0   0   0   0   0   0   0   0  12  17  13  40 477  35 477]\n"
          ]
        }
      ]
    },
    {
      "cell_type": "code",
      "source": [
        "# while were at it lets make a decode function\n",
        "\n",
        "reverse_word_index = {value: key for (key, value) in word_index.items()}\n",
        "\n",
        "def decode_integers(integers):\n",
        "    PAD = 0\n",
        "    text = \"\"\n",
        "    for num in integers:\n",
        "      if num != PAD:\n",
        "        text += reverse_word_index[num] + \" \"\n",
        "\n",
        "    return text[:-1]\n",
        "  \n",
        "print(decode_integers(encoded))"
      ],
      "metadata": {
        "id": "9IbG3X2wBhCY",
        "colab": {
          "base_uri": "https://localhost:8080/"
        },
        "outputId": "13d6b2dc-1aea-44df-93fe-6b7ce7a4c797"
      },
      "execution_count": null,
      "outputs": [
        {
          "output_type": "stream",
          "name": "stdout",
          "text": [
            "that movie was just amazing so amazing\n"
          ]
        }
      ]
    },
    {
      "cell_type": "code",
      "source": [
        "# now time to make a prediction\n",
        "\n",
        "def predict(text):\n",
        "  encoded_text = encode_text(text)\n",
        "  pred = np.zeros((1,250))\n",
        "  pred[0] = encoded_text\n",
        "  result = model.predict(pred) \n",
        "  print(result[0])\n",
        "\n",
        "positive_review = \"That movie was! really loved it and would great watch it again because it was amazingly great\"\n",
        "predict(positive_review)\n",
        "\n",
        "negative_review = \"that movie really sucked. I hated it and wouldn't watch it again. Was one of the worst things I've ever watched\"\n",
        "predict(negative_review)\n"
      ],
      "metadata": {
        "id": "sBBmMktiBhGA",
        "colab": {
          "base_uri": "https://localhost:8080/"
        },
        "outputId": "5f68f5b1-af24-481c-c2f2-f7c79acd4da9"
      },
      "execution_count": null,
      "outputs": [
        {
          "output_type": "stream",
          "name": "stdout",
          "text": [
            "[0.9086821]\n",
            "[0.3868512]\n"
          ]
        }
      ]
    },
    {
      "cell_type": "markdown",
      "source": [
        "##RNN Play Generator\n",
        "\n",
        "Now time for one of the coolest examples we've seen so far. We are going to use a RNN to generate a play. We will simply show the RNN an example of something we want it to recreate and it will learn how to write a version of it on its own. We'll do this using a character predictive model that will take as input a variable length sequence and predict the next character. We can use the model many times in a row with the output from the last predicition as the input for the next call to generate a sequence.\n"
      ],
      "metadata": {
        "id": "PXJwQRC_B4Rr"
      }
    },
    {
      "cell_type": "code",
      "source": [
        "%tensorflow_version 2.x  # this line is not required unless you are in a notebook\n",
        "from keras.preprocessing import sequence\n",
        "import keras\n",
        "import tensorflow as tf\n",
        "import os\n",
        "import numpy as np"
      ],
      "metadata": {
        "id": "ldMXxIghBhI2",
        "colab": {
          "base_uri": "https://localhost:8080/"
        },
        "outputId": "03d2e66f-b00c-4b28-8098-5a0643a99b31"
      },
      "execution_count": 159,
      "outputs": [
        {
          "output_type": "stream",
          "name": "stdout",
          "text": [
            "`%tensorflow_version` only switches the major version: 1.x or 2.x.\n",
            "You set: `2.x  # this line is not required unless you are in a notebook`. This will be interpreted as: `2.x`.\n",
            "\n",
            "\n",
            "TensorFlow is already loaded. Please restart the runtime to change versions.\n"
          ]
        }
      ]
    },
    {
      "cell_type": "code",
      "source": [
        "# dataset\n",
        "\n",
        "path_to_file = tf.keras.utils.get_file('shakespeare.txt', 'https://storage.googleapis.com/download.tensorflow.org/data/shakespeare.txt')"
      ],
      "metadata": {
        "id": "jOZByijzCJUZ"
      },
      "execution_count": 160,
      "outputs": []
    },
    {
      "cell_type": "code",
      "source": [
        "#Loading your own data\n",
        "\n",
        "# from google.colab import files\n",
        "# path_to_file = list(files.upload().keys())[0]"
      ],
      "metadata": {
        "id": "mlZ-BoX7BhVV"
      },
      "execution_count": 161,
      "outputs": []
    },
    {
      "cell_type": "code",
      "source": [
        "# Read, then decode for py2 compat.\n",
        "text = open(path_to_file, 'rb').read().decode(encoding='utf-8')\n",
        "\n",
        "# length of text is the number of characters in it\n",
        "print ('Length of text: {} characters'.format(len(text)))"
      ],
      "metadata": {
        "id": "o96N73T9CFWe",
        "colab": {
          "base_uri": "https://localhost:8080/"
        },
        "outputId": "084cff83-21b8-4b93-f572-d0e41019b7c6"
      },
      "execution_count": 162,
      "outputs": [
        {
          "output_type": "stream",
          "name": "stdout",
          "text": [
            "Length of text: 1115394 characters\n"
          ]
        }
      ]
    },
    {
      "cell_type": "code",
      "source": [
        "# Take a look at the first 250 characters in text\n",
        "print(text[:250])"
      ],
      "metadata": {
        "id": "jX_QLB7OCFQ1",
        "colab": {
          "base_uri": "https://localhost:8080/"
        },
        "outputId": "493da4a1-2283-43b2-fa2a-bed7ab56b6db"
      },
      "execution_count": 163,
      "outputs": [
        {
          "output_type": "stream",
          "name": "stdout",
          "text": [
            "First Citizen:\n",
            "Before we proceed any further, hear me speak.\n",
            "\n",
            "All:\n",
            "Speak, speak.\n",
            "\n",
            "First Citizen:\n",
            "You are all resolved rather to die than to famish?\n",
            "\n",
            "All:\n",
            "Resolved. resolved.\n",
            "\n",
            "First Citizen:\n",
            "First, you know Caius Marcius is chief enemy to the people.\n",
            "\n"
          ]
        }
      ]
    },
    {
      "cell_type": "markdown",
      "source": [
        "###Encoding\n",
        "Since this text isn't encoded yet well need to do that ourselves. We are going to encode each unique character as a different integer."
      ],
      "metadata": {
        "id": "vJ9J6XC0NYb-"
      }
    },
    {
      "cell_type": "code",
      "source": [
        "vocab = sorted(set(text))\n",
        "\n",
        "# Creating a mapping from unique characters to indices\n",
        "char2idx = {u:i for i, u in enumerate(vocab)}\n",
        "idx2char = np.array(vocab)\n",
        "\n",
        "def text_to_int(text):\n",
        "  return np.array([char2idx[c] for c in text])\n",
        "\n",
        "text_as_int = text_to_int(text)"
      ],
      "metadata": {
        "id": "nyG4LQzLCX7N"
      },
      "execution_count": 164,
      "outputs": []
    },
    {
      "cell_type": "code",
      "source": [
        "# lets look at how part of our text is encoded\n",
        "print(\"Text:\", text[:13])\n",
        "print(\"Encoded:\", text_to_int(text[:13]))"
      ],
      "metadata": {
        "id": "I1Zp9fXWCX4l",
        "colab": {
          "base_uri": "https://localhost:8080/"
        },
        "outputId": "8648efaf-414e-46a6-ce0e-7c70d3cfcda6"
      },
      "execution_count": 165,
      "outputs": [
        {
          "output_type": "stream",
          "name": "stdout",
          "text": [
            "Text: First Citizen\n",
            "Encoded: [18 47 56 57 58  1 15 47 58 47 64 43 52]\n"
          ]
        }
      ]
    },
    {
      "cell_type": "code",
      "source": [
        "# numeric values to text\n",
        "\n",
        "def int_to_text(ints):\n",
        "  try:\n",
        "    ints = ints.numpy()\n",
        "  except:\n",
        "    pass\n",
        "  return ''.join(idx2char[ints])\n",
        "\n",
        "print(int_to_text(text_as_int[:13]))"
      ],
      "metadata": {
        "id": "XS0mNlwnCXzs",
        "colab": {
          "base_uri": "https://localhost:8080/"
        },
        "outputId": "8d068379-5823-4b3f-a621-23ab22970496"
      },
      "execution_count": 166,
      "outputs": [
        {
          "output_type": "stream",
          "name": "stdout",
          "text": [
            "First Citizen\n"
          ]
        }
      ]
    },
    {
      "cell_type": "markdown",
      "source": [
        "###Creating Training Examples\n",
        "Remember our task is to feed the model a sequence and have it return to us the next character. This means we need to split our text data from above into many shorter sequences that we can pass to the model as training examples. \n",
        "\n",
        "The training examples we will prepapre will use a *seq_length* sequence as input and a *seq_length* sequence as the output where that sequence is the original sequence shifted one letter to the right. For example:\n",
        "\n",
        "```input: Hell | output: ello```\n",
        "\n",
        "Our first step will be to create a stream of characters from our text data."
      ],
      "metadata": {
        "id": "PDTpTPLzCzCn"
      }
    },
    {
      "cell_type": "code",
      "source": [
        "# length of sequence for a training example\n",
        "seq_length = 100  \n",
        "examples_per_epoch = len(text)//(seq_length+1)\n",
        "\n",
        "# Create training examples / targets\n",
        "char_dataset = tf.data.Dataset.from_tensor_slices(text_as_int)"
      ],
      "metadata": {
        "id": "XA7ka0ErCXwX"
      },
      "execution_count": 167,
      "outputs": []
    },
    {
      "cell_type": "code",
      "source": [
        "# Next we can use the batch method to turn this stream of characters into batches of desired length.\n",
        "sequences = char_dataset.batch(seq_length+1, drop_remainder=True)"
      ],
      "metadata": {
        "id": "_8AoH06RCXuF"
      },
      "execution_count": 168,
      "outputs": []
    },
    {
      "cell_type": "code",
      "source": [
        "def split_input_target(chunk):\n",
        "  # for the example: hello\n",
        "\n",
        "  input_text = chunk[:-1]  # hell\n",
        "  target_text = chunk[1:]  # ello\n",
        "  \n",
        "  return input_text, target_text  # hell, ello\n",
        "\n",
        "dataset = sequences.map(split_input_target)  # we use map to apply the above function to every entry"
      ],
      "metadata": {
        "id": "fval9Tx_CXr2"
      },
      "execution_count": 169,
      "outputs": []
    },
    {
      "cell_type": "code",
      "source": [
        "for x, y in dataset.take(2):\n",
        "  print(\"\\n\\t ~ EXAMPLE ~ \\n\")\n",
        "  print(\"INPUT\")\n",
        "  print(int_to_text(x))\n",
        "  print(\"\\nOUTPUT\")\n",
        "  print(int_to_text(y))"
      ],
      "metadata": {
        "id": "tYT_zsB1CXpa",
        "colab": {
          "base_uri": "https://localhost:8080/"
        },
        "outputId": "62f518fc-79a8-4bd2-c03b-d81cb90b09a4"
      },
      "execution_count": 170,
      "outputs": [
        {
          "output_type": "stream",
          "name": "stdout",
          "text": [
            "\n",
            "\t ~ EXAMPLE ~ \n",
            "\n",
            "INPUT\n",
            "First Citizen:\n",
            "Before we proceed any further, hear me speak.\n",
            "\n",
            "All:\n",
            "Speak, speak.\n",
            "\n",
            "First Citizen:\n",
            "You\n",
            "\n",
            "OUTPUT\n",
            "irst Citizen:\n",
            "Before we proceed any further, hear me speak.\n",
            "\n",
            "All:\n",
            "Speak, speak.\n",
            "\n",
            "First Citizen:\n",
            "You \n",
            "\n",
            "\t ~ EXAMPLE ~ \n",
            "\n",
            "INPUT\n",
            "are all resolved rather to die than to famish?\n",
            "\n",
            "All:\n",
            "Resolved. resolved.\n",
            "\n",
            "First Citizen:\n",
            "First, you \n",
            "\n",
            "OUTPUT\n",
            "re all resolved rather to die than to famish?\n",
            "\n",
            "All:\n",
            "Resolved. resolved.\n",
            "\n",
            "First Citizen:\n",
            "First, you k\n"
          ]
        }
      ]
    },
    {
      "cell_type": "code",
      "source": [
        "# training\n",
        "\n",
        "BATCH_SIZE = 64\n",
        "\n",
        "# vocab is number of unique characters\n",
        "VOCAB_SIZE = len(vocab)  \n",
        "\n",
        "EMBEDDING_DIM = 256\n",
        "RNN_UNITS = 1024\n",
        "\n",
        "# Buffer size to shuffle the dataset\n",
        "# (TF data is designed to work with possibly infinite sequences,\n",
        "# so it doesn't attempt to shuffle the entire sequence in memory. Instead,\n",
        "# it maintains a buffer in which it shuffles elements).\n",
        "BUFFER_SIZE = 10000\n",
        "\n",
        "data = dataset.shuffle(BUFFER_SIZE).batch(BATCH_SIZE, drop_remainder=True)"
      ],
      "metadata": {
        "id": "9T6YIzdTCXir"
      },
      "execution_count": 171,
      "outputs": []
    },
    {
      "cell_type": "markdown",
      "source": [
        "\n",
        "\n",
        "###Building the Model\n",
        "Now it is time to build the model. We will use an embedding layer a LSTM and one dense layer that contains a node for each unique character in our training data. The dense layer will give us a probability distribution over all nodes."
      ],
      "metadata": {
        "id": "evGuEfMoDRFk"
      }
    },
    {
      "cell_type": "code",
      "source": [
        "# model \n",
        "\n",
        "def build_model(vocab_size, embedding_dim, rnn_units, batch_size):\n",
        "\n",
        "  model = tf.keras.Sequential([\n",
        "    tf.keras.layers.Embedding(vocab_size, embedding_dim,\n",
        "                              batch_input_shape=[batch_size, None]),\n",
        "    tf.keras.layers.LSTM(rnn_units,\n",
        "                        return_sequences=True,\n",
        "                        stateful=True,\n",
        "                        recurrent_initializer='glorot_uniform'),\n",
        "    tf.keras.layers.Dense(vocab_size)\n",
        "  ])\n",
        "  \n",
        "  return model\n",
        "\n",
        "model = build_model(VOCAB_SIZE,EMBEDDING_DIM, RNN_UNITS, BATCH_SIZE)\n",
        "model.summary()"
      ],
      "metadata": {
        "id": "v3KixdFYCXgG",
        "colab": {
          "base_uri": "https://localhost:8080/"
        },
        "outputId": "e0872a03-2dfa-4c9e-b9ff-31f90360dcb4"
      },
      "execution_count": 172,
      "outputs": [
        {
          "output_type": "stream",
          "name": "stdout",
          "text": [
            "Model: \"sequential_10\"\n",
            "_________________________________________________________________\n",
            " Layer (type)                Output Shape              Param #   \n",
            "=================================================================\n",
            " embedding_10 (Embedding)    (64, None, 256)           16640     \n",
            "                                                                 \n",
            " lstm_10 (LSTM)              (64, None, 1024)          5246976   \n",
            "                                                                 \n",
            " dense_10 (Dense)            (64, None, 65)            66625     \n",
            "                                                                 \n",
            "=================================================================\n",
            "Total params: 5,330,241\n",
            "Trainable params: 5,330,241\n",
            "Non-trainable params: 0\n",
            "_________________________________________________________________\n"
          ]
        }
      ]
    },
    {
      "cell_type": "markdown",
      "source": [
        "### Output"
      ],
      "metadata": {
        "id": "A_5bTedHdSVZ"
      }
    },
    {
      "cell_type": "code",
      "source": [
        "for input_example_batch, target_example_batch in data.take(1):\n",
        "\n",
        "  # ask our model for a prediction on our first batch of training data (64 entries)\n",
        "  example_batch_predictions = model(input_example_batch)  \n",
        "  \n",
        "  # print out the output shape\n",
        "  print(example_batch_predictions.shape, \"# (batch_size, sequence_length, vocab_size)\")  "
      ],
      "metadata": {
        "id": "uJtyLCfrDJoQ",
        "colab": {
          "base_uri": "https://localhost:8080/"
        },
        "outputId": "1700bf4c-638d-428d-8c8c-4004de29c4e5"
      },
      "execution_count": 173,
      "outputs": [
        {
          "output_type": "stream",
          "name": "stdout",
          "text": [
            "(64, 100, 65) # (batch_size, sequence_length, vocab_size)\n"
          ]
        }
      ]
    },
    {
      "cell_type": "code",
      "source": [
        "# we can see that the predicition is an array of 64 arrays, one for each entry in the batch\n",
        "\n",
        "print(len(example_batch_predictions))\n",
        "print(example_batch_predictions.shape)\n"
      ],
      "metadata": {
        "id": "fMIWwDrPDJfh",
        "colab": {
          "base_uri": "https://localhost:8080/"
        },
        "outputId": "214d52f7-a712-447d-d170-b30d34712c3f"
      },
      "execution_count": 174,
      "outputs": [
        {
          "output_type": "stream",
          "name": "stdout",
          "text": [
            "64\n",
            "(64, 100, 65)\n"
          ]
        }
      ]
    },
    {
      "cell_type": "code",
      "source": [
        "# lets examine one prediction\n",
        "pred = example_batch_predictions[0]\n",
        "\n",
        "print(len(pred))\n",
        "print(pred.shape)\n",
        "# notice this is a 2d array of length 100, where each interior array is the prediction for the next character at each time step"
      ],
      "metadata": {
        "id": "gsCedrlxDJdw",
        "colab": {
          "base_uri": "https://localhost:8080/"
        },
        "outputId": "eaf9ed20-fef6-4dc3-8d10-4c9b0c2730bf"
      },
      "execution_count": 175,
      "outputs": [
        {
          "output_type": "stream",
          "name": "stdout",
          "text": [
            "100\n",
            "(100, 65)\n"
          ]
        }
      ]
    },
    {
      "cell_type": "code",
      "source": [
        "# and finally well look at a prediction at the first timestep\n",
        "time_pred = pred[0]\n",
        "\n",
        "print(len(time_pred))\n",
        "print(time_pred)\n",
        "# and of course its 65 values representing the probabillity of each character occuring next"
      ],
      "metadata": {
        "id": "-DYG8xHlDJbb",
        "colab": {
          "base_uri": "https://localhost:8080/"
        },
        "outputId": "d33081a2-40b5-406b-e346-b514dee7c942"
      },
      "execution_count": 176,
      "outputs": [
        {
          "output_type": "stream",
          "name": "stdout",
          "text": [
            "65\n",
            "tf.Tensor(\n",
            "[ 8.0854801e-04 -9.9223480e-04  4.3468415e-03  7.3629282e-03\n",
            " -1.9070716e-03  4.5736516e-03  1.5923386e-03 -3.4111880e-03\n",
            " -3.0019262e-04  7.3221083e-05  3.0423494e-03  3.8779892e-03\n",
            " -3.8668008e-03  2.7549211e-03  8.5883956e-05  1.8831962e-04\n",
            " -2.6982282e-03  6.2273666e-03  4.7648046e-03 -3.0757871e-03\n",
            " -3.0656115e-03 -5.7144719e-03  2.8680398e-03 -4.9581644e-03\n",
            " -1.9108108e-03 -1.3766845e-03  1.3612036e-03  1.1895744e-03\n",
            " -2.7334916e-03  1.9611076e-03 -1.6419669e-03 -2.4415085e-03\n",
            " -1.2445350e-03  4.5772996e-03  1.2301295e-03  4.6433499e-03\n",
            "  1.5803816e-03 -4.8557410e-04 -4.1440153e-03  1.3347378e-04\n",
            "  4.5530573e-03 -2.2794488e-03 -9.7159256e-04  8.7035740e-05\n",
            " -1.9358440e-03 -6.5939518e-04 -3.5665717e-03  2.8350556e-03\n",
            "  5.8754510e-03 -1.8701022e-03  1.2998042e-03  1.0075944e-03\n",
            " -8.3424390e-04  9.7996159e-04 -2.3945484e-03  1.8352689e-03\n",
            "  6.9716689e-04  1.1184906e-03  1.1557952e-03  1.0122600e-02\n",
            " -2.3054206e-03  2.0574469e-03  1.0478300e-02 -6.2195671e-04\n",
            "  8.5145887e-04], shape=(65,), dtype=float32)\n"
          ]
        }
      ]
    },
    {
      "cell_type": "markdown",
      "source": [
        "###Creating a Loss Function\n",
        "Now we are going to create our own loss function for this problem. This is because our model will output a (64, sequence_length, 65) shaped tensor that represents the probability distribution of each character at each timestep for every sequence in the batch. \n",
        "\n",
        "However, before we do that let's have a look at a sample input and the output from our untrained model. This is so we can understand what the model is giving us.\n",
        "\n",
        "\n"
      ],
      "metadata": {
        "id": "fQWZWhIIDVtI"
      }
    },
    {
      "cell_type": "code",
      "source": [
        "# If we want to determine the predicted character we need to sample the output distribution (pick a value based on probabillity)\n",
        "sampled_indices = tf.random.categorical(pred, num_samples=1)\n",
        "\n",
        "# now we can reshape that array and convert all the integers to numbers to see the actual characters\n",
        "sampled_indices = np.reshape(sampled_indices, (1, -1))[0]\n",
        "predicted_chars = int_to_text(sampled_indices)\n",
        "\n",
        "# and this is what the model predicted for training sequence 1\n",
        "predicted_chars  "
      ],
      "metadata": {
        "id": "S-SFSbFwDJP5",
        "colab": {
          "base_uri": "https://localhost:8080/",
          "height": 37
        },
        "outputId": "db08969f-400d-4efb-fcaa-3eac93593c83"
      },
      "execution_count": 177,
      "outputs": [
        {
          "output_type": "execute_result",
          "data": {
            "text/plain": [
              "\";BGed'bG?XtmUMYTkS:dcL,h\\nWRz.UFFa\\nUZaNh!ID\\n'Kd?hVsOpq?vG\\nvJe!dCU:SeT' TDDeJyNbGrOKqYSwaXt\\nrpSKI!Vd&m\""
            ],
            "application/vnd.google.colaboratory.intrinsic+json": {
              "type": "string"
            }
          },
          "metadata": {},
          "execution_count": 177
        }
      ]
    },
    {
      "cell_type": "code",
      "source": [
        "# So now we need to create a loss function that can compare that output to the \n",
        "# expected output and give us some numeric value representing how close the two were. \n",
        "\n",
        "def loss(labels, logits):\n",
        "  return tf.keras.losses.sparse_categorical_crossentropy(labels, logits, from_logits=True)"
      ],
      "metadata": {
        "id": "iMJwLLz7DJMq"
      },
      "execution_count": 178,
      "outputs": []
    },
    {
      "cell_type": "code",
      "source": [
        "# compiling the model \n",
        "\n",
        "model.compile(optimizer='adam', loss=loss)"
      ],
      "metadata": {
        "id": "-R4a3olkDJKX"
      },
      "execution_count": 179,
      "outputs": []
    },
    {
      "cell_type": "code",
      "source": [
        "# creating checkpoints\n",
        "\n",
        "# Directory where the checkpoints will be saved\n",
        "checkpoint_dir = './training_checkpoints'\n",
        "\n",
        "# Name of the checkpoint files\n",
        "checkpoint_prefix = os.path.join(checkpoint_dir, \"ckpt_{epoch}\")\n",
        "\n",
        "checkpoint_callback=tf.keras.callbacks.ModelCheckpoint(\n",
        "    filepath=checkpoint_prefix,\n",
        "    save_weights_only=True)"
      ],
      "metadata": {
        "id": "1o7bSruCDJIz"
      },
      "execution_count": 180,
      "outputs": []
    },
    {
      "cell_type": "code",
      "source": [
        "# training\n",
        "# this is taking a while go to Runtime > Change Runtime Type and choose \"GPU\" under hardware accelerato.**\n",
        "\n",
        "history = model.fit(data, epochs=10, callbacks=[checkpoint_callback])"
      ],
      "metadata": {
        "id": "DHYAMLuCDJHk",
        "colab": {
          "base_uri": "https://localhost:8080/"
        },
        "outputId": "2eb32306-3683-4b76-c4f5-a31e1b1203af"
      },
      "execution_count": 181,
      "outputs": [
        {
          "output_type": "stream",
          "name": "stdout",
          "text": [
            "Epoch 1/10\n",
            "172/172 [==============================] - 34s 175ms/step - loss: 2.5724\n",
            "Epoch 2/10\n",
            "172/172 [==============================] - 32s 174ms/step - loss: 1.8668\n",
            "Epoch 3/10\n",
            "172/172 [==============================] - 32s 174ms/step - loss: 1.6257\n",
            "Epoch 4/10\n",
            "172/172 [==============================] - 31s 173ms/step - loss: 1.4980\n",
            "Epoch 5/10\n",
            "172/172 [==============================] - 31s 173ms/step - loss: 1.4198\n",
            "Epoch 6/10\n",
            "172/172 [==============================] - 32s 173ms/step - loss: 1.3644\n",
            "Epoch 7/10\n",
            "172/172 [==============================] - 31s 173ms/step - loss: 1.3195\n",
            "Epoch 8/10\n",
            "172/172 [==============================] - 31s 173ms/step - loss: 1.2818\n",
            "Epoch 9/10\n",
            "172/172 [==============================] - 31s 173ms/step - loss: 1.2454\n",
            "Epoch 10/10\n",
            "172/172 [==============================] - 32s 174ms/step - loss: 1.2102\n"
          ]
        }
      ]
    },
    {
      "cell_type": "code",
      "source": [
        "# loading the model\n",
        "\n",
        "model = build_model(VOCAB_SIZE, EMBEDDING_DIM, RNN_UNITS, batch_size=1)"
      ],
      "metadata": {
        "id": "y9ZigAzJDJEU"
      },
      "execution_count": 182,
      "outputs": []
    },
    {
      "cell_type": "code",
      "source": [
        "# Once the model is finished training, we can find the **lastest checkpoint** that stores the models weights using the following line.\n",
        "\n",
        "model.load_weights(tf.train.latest_checkpoint(checkpoint_dir))\n",
        "model.build(tf.TensorShape([1, None]))"
      ],
      "metadata": {
        "id": "tJadZn0LDJC2"
      },
      "execution_count": 183,
      "outputs": []
    },
    {
      "cell_type": "code",
      "source": [
        "# We can load **any checkpoint** we want by specifying the exact file to load.\n",
        "\n",
        "# checkpoint_num = 10\n",
        "# model.load_weights(tf.train.load_checkpoint(\"./training_checkpoints/ckpt_\" + str(checkpoint_num)))\n",
        "# model.build(tf.TensorShape([1, None]))"
      ],
      "metadata": {
        "id": "MrT3HMK4DI_x"
      },
      "execution_count": 184,
      "outputs": []
    },
    {
      "cell_type": "markdown",
      "source": [
        "###Generating Text\n",
        "Now we can use the lovely function provided by tensorflow to generate some text using any starting string we'd like."
      ],
      "metadata": {
        "id": "v7DNdpdPESru"
      }
    },
    {
      "cell_type": "code",
      "source": [
        "def generate_text(model, start_string):\n",
        "  # Evaluation step (generating text using the learned model)\n",
        "\n",
        "  # Number of characters to generate\n",
        "  num_generate = 800\n",
        "\n",
        "  # Converting our start string to numbers (vectorizing)\n",
        "  input_eval = [char2idx[s] for s in start_string]\n",
        "  input_eval = tf.expand_dims(input_eval, 0)\n",
        "\n",
        "  # Empty string to store our results\n",
        "  text_generated = []\n",
        "\n",
        "  # Low temperatures results in more predictable text.\n",
        "  # Higher temperatures results in more surprising text.\n",
        "  # Experiment to find the best setting.\n",
        "  temperature = 1.0\n",
        "\n",
        "  # Here batch size == 1\n",
        "  model.reset_states()\n",
        "  for i in range(num_generate):\n",
        "      predictions = model(input_eval)\n",
        "      # remove the batch dimension\n",
        "    \n",
        "      predictions = tf.squeeze(predictions, 0)\n",
        "\n",
        "      # using a categorical distribution to predict the character returned by the model\n",
        "      predictions = predictions / temperature\n",
        "      predicted_id = tf.random.categorical(predictions, num_samples=1)[-1,0].numpy()\n",
        "\n",
        "      # We pass the predicted character as the next input to the model\n",
        "      # along with the previous hidden state\n",
        "      input_eval = tf.expand_dims([predicted_id], 0)\n",
        "\n",
        "      text_generated.append(idx2char[predicted_id])\n",
        "\n",
        "  return (start_string + ''.join(text_generated))"
      ],
      "metadata": {
        "id": "S17u94a5EUuT"
      },
      "execution_count": 185,
      "outputs": []
    },
    {
      "cell_type": "code",
      "source": [
        "inp = input(\"Type a starting string: \")\n",
        "print(generate_text(model, inp))"
      ],
      "metadata": {
        "id": "bLfDHkDFEUrS",
        "colab": {
          "base_uri": "https://localhost:8080/"
        },
        "outputId": "bcc1752f-2a4b-4151-d82b-a170296fead5"
      },
      "execution_count": 186,
      "outputs": [
        {
          "output_type": "stream",
          "name": "stdout",
          "text": [
            "Type a starting string: romeo\n",
            "romeo's one of your throne;\n",
            "But fled, where they have taught you.\n",
            "\n",
            "NORTHUMBERLAND:\n",
            "Pretthar, gentle enemies! but he's Paulina.\n",
            "\n",
            "Fourth Brow:\n",
            "This is but so; his grief could not\n",
            "unself-eace.\n",
            "\n",
            "BENVOLIO:\n",
            "Here's a meet to him!\n",
            "Farewell: 'tis the house, by the common:\n",
            "The date of love's voices.\n",
            "\n",
            "LEONTES:\n",
            "Why, there is Liknes'd servant.\n",
            "You, sir, he loves me lord upon this death.\n",
            "\n",
            "TYBRAL:\n",
            "I say, not so well: no turn; I must buy speaks with thee.\n",
            "\n",
            "PETRUCHIO:\n",
            "Even, so burn'd? what with good Hartical had, will weep.\n",
            "I would not by this captainlas atumpats,\n",
            "But but a binter\n",
            "Of my poor'st, stay; and, o' the toes the truth.\n",
            "\n",
            "GRAMIO:\n",
            "King yet ere he were ask, not content.\n",
            "\n",
            "QUEEN ELIZABHH:\n",
            "By for your honesty!\n",
            "\n",
            "MONTAGUE:\n",
            "What, all-sing knife to see her grief:\n",
            "I pray thee, all the adversaries\n",
            "Should be guilde\n"
          ]
        }
      ]
    },
    {
      "cell_type": "code",
      "source": [
        ""
      ],
      "metadata": {
        "id": "QvRx5BQ6EUg2"
      },
      "execution_count": null,
      "outputs": []
    }
  ]
}